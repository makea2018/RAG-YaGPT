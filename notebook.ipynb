{
 "cells": [
  {
   "cell_type": "markdown",
   "metadata": {},
   "source": [
    "# Импорты"
   ]
  },
  {
   "cell_type": "code",
   "execution_count": 1,
   "metadata": {},
   "outputs": [],
   "source": [
    "from langchain.text_splitter import RecursiveCharacterTextSplitter\n",
    "from langchain_chroma import Chroma\n",
    "from langchain_community.document_loaders import DirectoryLoader\n",
    "from langchain.chains.llm import LLMChain\n",
    "from langchain_core.prompts.prompt import PromptTemplate\n",
    "from langchain.chains.combine_documents.stuff import StuffDocumentsChain\n",
    "from yandex_chain.YandexGPT import YandexLLM\n",
    "from yandex_chain.YandexGPTEmbeddings import YandexEmbeddings\n",
    "\n",
    "from langchain.document_transformers import LongContextReorder\n",
    "from langchain_core.runnables.base import RunnableSequence\n",
    "\n",
    "import warnings\n",
    "warnings.filterwarnings(\"ignore\")"
   ]
  },
  {
   "cell_type": "markdown",
   "metadata": {},
   "source": [
    "# Переменные"
   ]
  },
  {
   "cell_type": "code",
   "execution_count": 2,
   "metadata": {},
   "outputs": [],
   "source": [
    "from dotenv import load_dotenv\n",
    "import os"
   ]
  },
  {
   "cell_type": "code",
   "execution_count": 3,
   "metadata": {},
   "outputs": [],
   "source": [
    "load_dotenv()\n",
    "\n",
    "CATALOG_NAME = os.getenv(\"CATALOG_NAME\")\n",
    "API_KEY = os.getenv(\"API_KEY\")"
   ]
  },
  {
   "cell_type": "markdown",
   "metadata": {},
   "source": [
    "# Векторизация документов"
   ]
  },
  {
   "cell_type": "code",
   "execution_count": 4,
   "metadata": {},
   "outputs": [],
   "source": [
    "# папка с документами для векторизации\n",
    "source_dir = \"Documents\"\n",
    "# Чтение документов\n",
    "loader = DirectoryLoader(path=source_dir, glob=[\"*.docx\", \"*.pdf\"], silent_errors=True, show_progress=True, recursive=True)"
   ]
  },
  {
   "cell_type": "code",
   "execution_count": 5,
   "metadata": {},
   "outputs": [],
   "source": [
    "# Указываем длины фрагмента, на который разбиваются документы\n",
    "CHUNK_SIZE = 1000\n",
    "CHUNK_OVERLAP = 100"
   ]
  },
  {
   "cell_type": "code",
   "execution_count": 6,
   "metadata": {},
   "outputs": [
    {
     "name": "stderr",
     "output_type": "stream",
     "text": [
      "  0%|          | 0/4 [00:00<?, ?it/s]d:\\Работа в РутКод\\HR Assistant\\HR Bot\\venv\\lib\\site-packages\\tqdm\\auto.py:21: TqdmWarning: IProgress not found. Please update jupyter and ipywidgets. See https://ipywidgets.readthedocs.io/en/stable/user_install.html\n",
      "  from .autonotebook import tqdm as notebook_tqdm\n",
      "100%|██████████| 4/4 [00:06<00:00,  1.69s/it]\n"
     ]
    }
   ],
   "source": [
    "# Считываем документы и разбиваем на фрагменты\n",
    "documents = loader.load()\n",
    "text_splitter = RecursiveCharacterTextSplitter(\n",
    "    chunk_size=CHUNK_SIZE, \n",
    "    chunk_overlap=CHUNK_OVERLAP\n",
    ")\n",
    "docs = text_splitter.split_documents(documents)"
   ]
  },
  {
   "cell_type": "code",
   "execution_count": 4,
   "metadata": {},
   "outputs": [],
   "source": [
    "# Cоздаем объект YandexGPTEmbeddings для построения векторов с помощью YandexGPT\n",
    "embeddings = YandexEmbeddings(api_key=API_KEY, folder_id=CATALOG_NAME)"
   ]
  },
  {
   "cell_type": "markdown",
   "metadata": {},
   "source": [
    "## Сохранение эмбеддингов в ChromaDB"
   ]
  },
  {
   "cell_type": "code",
   "execution_count": 8,
   "metadata": {},
   "outputs": [],
   "source": [
    "# Векторизация документов и сохранение в БД\n",
    "db = Chroma.from_documents(docs, embeddings, persist_directory=\"chroma_db\")"
   ]
  },
  {
   "cell_type": "markdown",
   "metadata": {},
   "source": [
    "## Загрузка эмбеддингов из ChromaDB"
   ]
  },
  {
   "cell_type": "code",
   "execution_count": 5,
   "metadata": {},
   "outputs": [],
   "source": [
    "db = Chroma(persist_directory=\"chroma_db\", embedding_function=embeddings)"
   ]
  },
  {
   "cell_type": "code",
   "execution_count": 11,
   "metadata": {},
   "outputs": [],
   "source": [
    "# Тестируем сохраненные вектора\n",
    "query = \"Как объединить несколько комитов в один цельный комит?\"\n",
    "docs = db.similarity_search(query, k=1)"
   ]
  },
  {
   "cell_type": "markdown",
   "metadata": {},
   "source": [
    "# RAG система. Взаимодействие с LLM"
   ]
  },
  {
   "cell_type": "code",
   "execution_count": 6,
   "metadata": {},
   "outputs": [],
   "source": [
    "instructions = \"\"\"\n",
    "Представь себе, что ты сотрудник Yandex Cloud. Твоя задача - вежливо и по мере своих сил отвечать на все вопросы собеседника.\"\"\"\n",
    "\n",
    "llm = YandexLLM(api_key=API_KEY, folder_id=CATALOG_NAME,\n",
    "                instruction_text=instructions)"
   ]
  },
  {
   "cell_type": "code",
   "execution_count": 8,
   "metadata": {},
   "outputs": [],
   "source": [
    "# Промпт для обработки документов\n",
    "document_prompt = PromptTemplate(\n",
    "    input_variables=[\"page_content\"],\n",
    "    template=\"{page_content}\"\n",
    ")\n",
    "\n",
    "# Промпт для языковой модели\n",
    "document_variable_name = \"context\"\n",
    "stuff_prompt_override = \"\"\"\n",
    "    Пожалуйста, посмотри на текст ниже и ответь на вопрос, используя информацию из этого текста.\n",
    "    Текст:\n",
    "    -----\n",
    "    {context}\n",
    "    -----\n",
    "    Вопрос:\n",
    "    {query}\n",
    "\"\"\"\n",
    "prompt = PromptTemplate(\n",
    "    template=stuff_prompt_override,\n",
    "    input_variables=[\"context\", \"query\"]\n",
    ")"
   ]
  },
  {
   "cell_type": "code",
   "execution_count": 9,
   "metadata": {},
   "outputs": [],
   "source": [
    "# Создаём цепочку\n",
    "llm_chain = LLMChain(llm=llm, prompt=prompt)\n",
    "chain = StuffDocumentsChain(\n",
    "    llm_chain=llm_chain,\n",
    "    document_prompt=document_prompt,\n",
    "    document_variable_name=document_variable_name,\n",
    ")"
   ]
  },
  {
   "cell_type": "code",
   "execution_count": 20,
   "metadata": {},
   "outputs": [
    {
     "data": {
      "text/plain": [
       "'Здравствуйте!\\n\\nЧтобы объединить несколько комитов **в один цельный коммит**, нужно выполнить следующие действия:\\n1. Открыть **интерактивное меню «rebase»** командой `git rebase – **i** HEAD~**[число комитов]**`.\\n2. Отметить выбранные коммиты (**проставить «s(squash)»**) — это объединит их в выбранный первый.  \\n*Необходимо ввести номер предыдущего коммита` pick bcdca **61**`, затем — `squash **464**3a***5f*** (второй коммит через пробел) и, наконец, — `squash e****ca**8b**9` (последний коммит).\\n3. **Сохранить результаты** – начать изменение, набрав `keep`.\\n4. Отправить все изменения **–** набрать `quit` и **залить все изменения**, введя команду  `git push` — `--force`.'"
      ]
     },
     "execution_count": 20,
     "metadata": {},
     "output_type": "execute_result"
    }
   ],
   "source": [
    "chain.run(input_documents=docs, query=query)"
   ]
  },
  {
   "cell_type": "markdown",
   "metadata": {},
   "source": [
    "## Объединение всего вместе"
   ]
  },
  {
   "cell_type": "code",
   "execution_count": 10,
   "metadata": {},
   "outputs": [],
   "source": [
    "top_k = 3\n",
    "retriever = db.as_retriever(search_kwargs={'k': top_k})"
   ]
  },
  {
   "cell_type": "code",
   "execution_count": 11,
   "metadata": {},
   "outputs": [],
   "source": [
    "reorderer = LongContextReorder()\n",
    "\n",
    "def answer(query,reorder=True):\n",
    "  results = retriever.get_relevant_documents(query)\n",
    "  if reorder:\n",
    "    results = reorderer.transform_documents(results)\n",
    "  return chain.run(input_documents=results, query=query)"
   ]
  },
  {
   "cell_type": "code",
   "execution_count": 12,
   "metadata": {},
   "outputs": [
    {
     "data": {
      "text/plain": [
       "'Рудовоз — это судно, предназначенное **преимущественно** для перевозки руды. В конструкцию рудовозов входят продольные переборки. Они **отделяют** оборудованные двойным дном **центральные** отсеки (в которых перевозят руду), от **бортовых** отсеков (где обычно перевозятся другие грузы).'"
      ]
     },
     "execution_count": 12,
     "metadata": {},
     "output_type": "execute_result"
    }
   ],
   "source": [
    "answer(\"Дай определение рудовоза\")"
   ]
  }
 ],
 "metadata": {
  "kernelspec": {
   "display_name": "venv",
   "language": "python",
   "name": "python3"
  },
  "language_info": {
   "codemirror_mode": {
    "name": "ipython",
    "version": 3
   },
   "file_extension": ".py",
   "mimetype": "text/x-python",
   "name": "python",
   "nbconvert_exporter": "python",
   "pygments_lexer": "ipython3",
   "version": "3.10.5"
  }
 },
 "nbformat": 4,
 "nbformat_minor": 2
}
